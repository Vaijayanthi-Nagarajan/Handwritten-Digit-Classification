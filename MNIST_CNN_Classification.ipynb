{
 "cells": [
  {
   "cell_type": "code",
   "execution_count": 2,
   "id": "3610210d",
   "metadata": {},
   "outputs": [],
   "source": [
    "import torch\n",
    "import torch.nn as nn\n",
    "import torchvision.transforms as transforms\n",
    "import torchvision.datasets as datasets\n",
    "from torch.utils.data import DataLoader"
   ]
  },
  {
   "cell_type": "code",
   "execution_count": 17,
   "id": "d78b3f1c",
   "metadata": {},
   "outputs": [],
   "source": [
    "train_dataset = datasets.MNIST(root ='./Data1', train = True, transform = transforms.ToTensor(), download = False)"
   ]
  },
  {
   "cell_type": "code",
   "execution_count": 18,
   "id": "f2133342",
   "metadata": {},
   "outputs": [],
   "source": [
    "test_dataset = datasets.MNIST(root ='./Data', train = False, transform = transforms.ToTensor(), download = True)"
   ]
  },
  {
   "cell_type": "code",
   "execution_count": 19,
   "id": "bbd4a6c8",
   "metadata": {},
   "outputs": [
    {
     "data": {
      "text/plain": [
       "60000"
      ]
     },
     "execution_count": 19,
     "metadata": {},
     "output_type": "execute_result"
    }
   ],
   "source": [
    "len(train_dataset)"
   ]
  },
  {
   "cell_type": "code",
   "execution_count": 20,
   "id": "617ed366",
   "metadata": {},
   "outputs": [
    {
     "data": {
      "text/plain": [
       "torchvision.datasets.mnist.MNIST"
      ]
     },
     "execution_count": 20,
     "metadata": {},
     "output_type": "execute_result"
    }
   ],
   "source": [
    "type(train_dataset)"
   ]
  },
  {
   "cell_type": "code",
   "execution_count": 21,
   "id": "47416e11",
   "metadata": {},
   "outputs": [
    {
     "data": {
      "text/plain": [
       "10000"
      ]
     },
     "execution_count": 21,
     "metadata": {},
     "output_type": "execute_result"
    }
   ],
   "source": [
    "len(test_dataset)"
   ]
  },
  {
   "cell_type": "code",
   "execution_count": 22,
   "id": "655c5812",
   "metadata": {},
   "outputs": [],
   "source": [
    "image, label =train_dataset[0]"
   ]
  },
  {
   "cell_type": "code",
   "execution_count": 23,
   "id": "352920b3",
   "metadata": {},
   "outputs": [
    {
     "data": {
      "text/plain": [
       "torch.Size([1, 28, 28])"
      ]
     },
     "execution_count": 23,
     "metadata": {},
     "output_type": "execute_result"
    }
   ],
   "source": [
    "image.shape"
   ]
  },
  {
   "cell_type": "code",
   "execution_count": 24,
   "id": "16b44507",
   "metadata": {},
   "outputs": [
    {
     "data": {
      "text/plain": [
       "5"
      ]
     },
     "execution_count": 24,
     "metadata": {},
     "output_type": "execute_result"
    }
   ],
   "source": [
    "label"
   ]
  },
  {
   "cell_type": "code",
   "execution_count": 25,
   "id": "f4d11c75",
   "metadata": {},
   "outputs": [],
   "source": [
    "# to compute mean and std of the images for normalization\n",
    "loader = DataLoader(dataset = train_dataset, batch_size = 60000, shuffle = True)"
   ]
  },
  {
   "cell_type": "code",
   "execution_count": 26,
   "id": "7c388c8e",
   "metadata": {},
   "outputs": [],
   "source": [
    "loader = DataLoader(train_dataset, 60000, True)"
   ]
  },
  {
   "cell_type": "code",
   "execution_count": 27,
   "id": "4f051128",
   "metadata": {},
   "outputs": [],
   "source": [
    "sample = train_dataset[0]"
   ]
  },
  {
   "cell_type": "code",
   "execution_count": 28,
   "id": "4bf10599",
   "metadata": {},
   "outputs": [
    {
     "data": {
      "text/plain": [
       "tuple"
      ]
     },
     "execution_count": 28,
     "metadata": {},
     "output_type": "execute_result"
    }
   ],
   "source": [
    "type(sample)"
   ]
  },
  {
   "cell_type": "code",
   "execution_count": 29,
   "id": "0eee4c99",
   "metadata": {},
   "outputs": [
    {
     "data": {
      "text/plain": [
       "2"
      ]
     },
     "execution_count": 29,
     "metadata": {},
     "output_type": "execute_result"
    }
   ],
   "source": [
    "len(sample)"
   ]
  },
  {
   "cell_type": "code",
   "execution_count": 30,
   "id": "94cd0056",
   "metadata": {},
   "outputs": [
    {
     "data": {
      "text/plain": [
       "torch.Size([1, 28, 28])"
      ]
     },
     "execution_count": 30,
     "metadata": {},
     "output_type": "execute_result"
    }
   ],
   "source": [
    "sample[0].shape"
   ]
  },
  {
   "cell_type": "code",
   "execution_count": 31,
   "id": "455bcc18",
   "metadata": {},
   "outputs": [
    {
     "data": {
      "text/plain": [
       "5"
      ]
     },
     "execution_count": 31,
     "metadata": {},
     "output_type": "execute_result"
    }
   ],
   "source": [
    "sample[1]"
   ]
  },
  {
   "cell_type": "code",
   "execution_count": 32,
   "id": "fa024cff",
   "metadata": {},
   "outputs": [],
   "source": [
    "for images, labels in loader:\n",
    "    mean_train = images.mean()\n",
    "    std_train = images.std()\n",
    "    "
   ]
  },
  {
   "cell_type": "code",
   "execution_count": 33,
   "id": "5e7251d9",
   "metadata": {},
   "outputs": [
    {
     "data": {
      "text/plain": [
       "tensor(0.1307)"
      ]
     },
     "execution_count": 33,
     "metadata": {},
     "output_type": "execute_result"
    }
   ],
   "source": [
    "mean_train\n"
   ]
  },
  {
   "cell_type": "code",
   "execution_count": 34,
   "id": "40b82218",
   "metadata": {},
   "outputs": [],
   "source": [
    "mean_train = 0.1307"
   ]
  },
  {
   "cell_type": "code",
   "execution_count": 35,
   "id": "c7bb6b28",
   "metadata": {},
   "outputs": [
    {
     "data": {
      "text/plain": [
       "tensor(0.3081)"
      ]
     },
     "execution_count": 35,
     "metadata": {},
     "output_type": "execute_result"
    }
   ],
   "source": [
    "std_train\n"
   ]
  },
  {
   "cell_type": "code",
   "execution_count": 36,
   "id": "77bf8d0d",
   "metadata": {},
   "outputs": [],
   "source": [
    "std_train = 0.3081"
   ]
  },
  {
   "cell_type": "code",
   "execution_count": 37,
   "id": "80abef58",
   "metadata": {},
   "outputs": [],
   "source": [
    "transform = transforms.Compose([transforms.ToTensor(), transforms.Normalize((mean_train,),(std_train,))])"
   ]
  },
  {
   "cell_type": "code",
   "execution_count": 38,
   "id": "ebc91b48",
   "metadata": {},
   "outputs": [],
   "source": [
    "train_dataset = datasets.MNIST(root ='./data',train = True, transform = transform, download = False)"
   ]
  },
  {
   "cell_type": "code",
   "execution_count": 39,
   "id": "bd7c313c",
   "metadata": {},
   "outputs": [],
   "source": [
    "test_dataset = datasets.MNIST(root ='./data', train = False, transform = transform, download = False )"
   ]
  },
  {
   "cell_type": "code",
   "execution_count": 40,
   "id": "1ef89cf7",
   "metadata": {},
   "outputs": [],
   "source": [
    "# Visualize the datasets"
   ]
  },
  {
   "cell_type": "code",
   "execution_count": 41,
   "id": "e4772c78",
   "metadata": {},
   "outputs": [
    {
     "data": {
      "text/plain": [
       "60000"
      ]
     },
     "execution_count": 41,
     "metadata": {},
     "output_type": "execute_result"
    }
   ],
   "source": [
    "len(train_dataset)"
   ]
  },
  {
   "cell_type": "code",
   "execution_count": 42,
   "id": "eb095b25",
   "metadata": {},
   "outputs": [],
   "source": [
    "img_sample = train_dataset[20]"
   ]
  },
  {
   "cell_type": "code",
   "execution_count": 43,
   "id": "bbb64bf8",
   "metadata": {},
   "outputs": [
    {
     "data": {
      "text/plain": [
       "2"
      ]
     },
     "execution_count": 43,
     "metadata": {},
     "output_type": "execute_result"
    }
   ],
   "source": [
    "len(img_sample)"
   ]
  },
  {
   "cell_type": "code",
   "execution_count": 44,
   "id": "e2a96254",
   "metadata": {},
   "outputs": [
    {
     "data": {
      "text/plain": [
       "tuple"
      ]
     },
     "execution_count": 44,
     "metadata": {},
     "output_type": "execute_result"
    }
   ],
   "source": [
    "type(img_sample)"
   ]
  },
  {
   "cell_type": "code",
   "execution_count": 45,
   "id": "1b9d3c58",
   "metadata": {},
   "outputs": [
    {
     "data": {
      "text/plain": [
       "torch.Size([1, 28, 28])"
      ]
     },
     "execution_count": 45,
     "metadata": {},
     "output_type": "execute_result"
    }
   ],
   "source": [
    "img_sample[0].shape"
   ]
  },
  {
   "cell_type": "code",
   "execution_count": 46,
   "id": "1f117536",
   "metadata": {},
   "outputs": [
    {
     "data": {
      "text/plain": [
       "4"
      ]
     },
     "execution_count": 46,
     "metadata": {},
     "output_type": "execute_result"
    }
   ],
   "source": [
    "img_sample[1]"
   ]
  },
  {
   "cell_type": "code",
   "execution_count": 47,
   "id": "f48e46bf",
   "metadata": {},
   "outputs": [],
   "source": [
    "img_numpy = img_sample[0].numpy()"
   ]
  },
  {
   "cell_type": "code",
   "execution_count": 48,
   "id": "63d783bd",
   "metadata": {},
   "outputs": [],
   "source": [
    "img = img_numpy"
   ]
  },
  {
   "cell_type": "code",
   "execution_count": 52,
   "id": "db655a46",
   "metadata": {},
   "outputs": [],
   "source": [
    "import matplotlib.pyplot as plt"
   ]
  },
  {
   "cell_type": "code",
   "execution_count": 53,
   "id": "94f4a1d3",
   "metadata": {},
   "outputs": [
    {
     "data": {
      "text/plain": [
       "(1, 28, 28)"
      ]
     },
     "execution_count": 53,
     "metadata": {},
     "output_type": "execute_result"
    }
   ],
   "source": [
    "img.shape"
   ]
  },
  {
   "cell_type": "code",
   "execution_count": 54,
   "id": "24f80aa8",
   "metadata": {},
   "outputs": [
    {
     "data": {
      "text/plain": [
       "<matplotlib.image.AxesImage at 0x1443393fd50>"
      ]
     },
     "execution_count": 54,
     "metadata": {},
     "output_type": "execute_result"
    },
    {
     "data": {
      "image/png": "[encoded data removed]",
      "text/plain": [
       "<Figure size 640x480 with 1 Axes>"
      ]
     },
     "metadata": {},
     "output_type": "display_data"
    }
   ],
   "source": [
    "plt.imshow(img.reshape(28,28), cmap ='gray')"
   ]
  },
  {
   "cell_type": "code",
   "execution_count": 55,
   "id": "902893d3",
   "metadata": {},
   "outputs": [
    {
     "name": "stdout",
     "output_type": "stream",
     "text": [
      "4\n"
     ]
    }
   ],
   "source": [
    "print(img_sample[1])"
   ]
  },
  {
   "cell_type": "code",
   "execution_count": 56,
   "id": "fc4f28cb",
   "metadata": {},
   "outputs": [],
   "source": [
    "# Convert to batch\n",
    "train_load = DataLoader(dataset = train_dataset, batch_size = 100, shuffle = True)\n"
   ]
  },
  {
   "cell_type": "code",
   "execution_count": 57,
   "id": "bdc0a01e",
   "metadata": {},
   "outputs": [],
   "source": [
    "test_load = DataLoader(dataset = test_dataset, batch_size = 100, shuffle = True)"
   ]
  },
  {
   "cell_type": "code",
   "execution_count": 58,
   "id": "910426de",
   "metadata": {},
   "outputs": [
    {
     "data": {
      "text/plain": [
       "600"
      ]
     },
     "execution_count": 58,
     "metadata": {},
     "output_type": "execute_result"
    }
   ],
   "source": [
    "len(train_load)"
   ]
  },
  {
   "cell_type": "code",
   "execution_count": 103,
   "id": "d28b11e5",
   "metadata": {},
   "outputs": [],
   "source": [
    "# Building the CNN\n",
    "class CNN(nn.Module):\n",
    "    def __init__(self):\n",
    "        super().__init__()\n",
    "        self.cnn1 = nn.Conv2d(in_channels = 1, out_channels = 8, kernel_size =3, stride =1, padding =1)\n",
    "        self.batchnorm1 = nn.BatchNorm2d(8)\n",
    "        self.relu = nn.ReLU()\n",
    "        self.maxpool = nn.MaxPool2d(kernel_size =2)\n",
    "        self.cnn2 = nn.Conv2d(in_channels = 8, out_channels =32, kernel_size =5, stride = 1,padding =2)\n",
    "        self.batchnorm2 = nn.BatchNorm2d(32)\n",
    "        self.fc1 = nn.Linear(1568,600)\n",
    "        self.dropout = nn.Dropout(p=0.1)\n",
    "        self.fc2 = nn.Linear(600,10)\n",
    "    def forward(self,x):\n",
    "        out = self.cnn1(x)\n",
    "        out = self.batchnorm1(out)\n",
    "        out = self.relu(out)\n",
    "        out = self.maxpool(out)\n",
    "        out = self.cnn2(out)\n",
    "        out = self.batchnorm2(out)\n",
    "        out = self.relu(out)\n",
    "        out = self.maxpool(out)\n",
    "        out = out.view(-1, 1568)\n",
    "        out = self.fc1(out)\n",
    "        out = self.relu(out)\n",
    "        out = self.fc2(out)\n",
    "        return out\n",
    "        \n",
    "        \n",
    "        \n",
    "        "
   ]
  },
  {
   "cell_type": "code",
   "execution_count": 104,
   "id": "00c7484c",
   "metadata": {},
   "outputs": [],
   "source": [
    "model = CNN()\n",
    "loss_fn = nn.CrossEntropyLoss()\n",
    "optimizer = torch.optim.Adam(model.parameters(), lr = 0.01)\n"
   ]
  },
  {
   "cell_type": "code",
   "execution_count": 105,
   "id": "cf676511",
   "metadata": {},
   "outputs": [
    {
     "name": "stdout",
     "output_type": "stream",
     "text": [
      "torch.Size([100, 1, 28, 28])\n",
      "torch.Size([100])\n"
     ]
    }
   ],
   "source": [
    "for x,y in train_load:\n",
    "    print(x.shape)\n",
    "    print(y.shape)\n",
    "    break"
   ]
  },
  {
   "cell_type": "code",
   "execution_count": 121,
   "id": "18f3a96f",
   "metadata": {},
   "outputs": [
    {
     "name": "stdout",
     "output_type": "stream",
     "text": [
      "tensor([[-9.4408e+00,  2.6106e+00,  4.1690e-02,  4.0170e-01, -1.9384e+00,\n",
      "         -5.3775e+00, -1.4185e+01,  1.4709e+01,  5.6693e-01,  3.2425e+00],\n",
      "        [ 1.6408e+01, -5.7496e+00,  3.0072e+00, -6.6900e+00, -8.7720e+00,\n",
      "          1.1932e+00,  2.4951e+00,  2.0079e-01,  4.1380e+00,  3.0585e+00],\n",
      "        [-3.0490e+00,  4.9403e+00, -2.8209e-01, -4.3785e+00,  1.8547e+01,\n",
      "         -3.7661e+00,  1.6858e+00,  1.8643e+00,  2.4221e+00,  5.0460e+00],\n",
      "        [ 7.9956e+00, -5.5570e+00, -2.5720e+00, -5.3045e+00,  1.4941e+00,\n",
      "          9.2334e+00,  1.6167e+01, -5.2521e+00,  7.4766e+00,  3.9347e-01],\n",
      "        [-1.2864e+00, -8.5754e+00, -3.2492e+00,  6.6281e-01,  2.7490e+00,\n",
      "         -1.7193e+00, -9.1724e+00,  1.2682e+00,  5.6393e+00,  1.8734e+01],\n",
      "        [ 4.3038e+00,  4.4383e+00,  4.3498e+00, -4.0228e+00,  7.8037e+00,\n",
      "          3.2587e-01,  8.4658e+00, -3.3141e+00,  3.1461e+00, -2.7786e+00],\n",
      "        [ 6.6503e+00, -5.2052e+00, -1.6419e+00, -2.9371e+00,  4.0027e+00,\n",
      "          8.9879e+00,  1.8791e+01, -5.6249e+00,  6.7741e+00, -9.8559e-01],\n",
      "        [-1.2184e+00,  1.3785e+01,  4.3535e+00, -5.2265e+00,  1.5803e+00,\n",
      "         -7.2493e-01,  1.2934e+00,  2.3089e+00,  9.2185e-01, -1.6254e+00],\n",
      "        [-9.6312e+00,  3.2552e+00,  1.0221e+00,  2.4529e+00,  1.8362e+00,\n",
      "         -5.3286e+00, -1.6437e+01,  1.1389e+01, -3.4683e+00,  6.2015e+00],\n",
      "        [ 1.3442e+01, -5.2932e+00,  3.0143e+00, -3.1825e+00, -6.9143e+00,\n",
      "         -8.0194e-01, -6.5209e-01,  9.6150e-01,  1.0158e+00,  3.8663e+00],\n",
      "        [-3.2034e+00, -2.5867e+00, -3.1822e+00, -6.8091e+00,  9.4848e-01,\n",
      "         -2.5708e+00, -1.1679e+01,  1.7196e+01, -2.7687e+00,  7.8529e+00],\n",
      "        [ 8.2895e-01,  1.4450e+01,  2.3733e+00, -7.5978e+00,  2.2221e+00,\n",
      "          1.4700e+00,  6.4327e+00,  6.5660e-01,  2.4550e+00, -3.1858e+00],\n",
      "        [ 4.2681e+00,  8.5637e-01,  2.6525e+00, -4.0637e+00,  4.7149e+00,\n",
      "          5.0889e+00,  1.6189e+01, -4.4245e+00,  6.7860e+00, -5.4112e+00],\n",
      "        [-2.6317e+00, -2.8564e+00,  2.6387e+00,  3.7348e+00, -3.9340e+00,\n",
      "         -4.6798e+00, -3.9539e+00,  5.8171e-01,  1.0945e+01,  2.3612e+00],\n",
      "        [-1.0916e+01,  1.8389e-01,  4.9614e-01,  1.5074e+01, -5.2553e+00,\n",
      "          2.0683e+00, -1.5449e+01, -3.2168e-01, -6.8692e-01,  8.3694e+00],\n",
      "        [ 1.6232e+00,  2.1411e+00, -2.4790e-02, -2.0661e+00,  1.0130e+01,\n",
      "         -1.9435e+00,  7.2047e+00,  2.7171e-02,  4.2457e+00, -2.2174e+00],\n",
      "        [ 2.5521e+00, -8.3391e-01,  1.7952e+01,  1.9728e+00, -5.8133e+00,\n",
      "         -8.2488e+00, -5.8436e+00,  4.6830e+00,  2.0835e+00, -4.5504e+00],\n",
      "        [-7.3183e+00, -7.7355e+00, -3.9906e+00,  1.1704e+00,  3.8650e+00,\n",
      "         -1.2217e+00, -1.1143e+01,  1.4133e+00,  7.5549e+00,  2.0753e+01],\n",
      "        [-7.9494e+00, -2.0275e+00,  7.2181e-01,  1.1562e+01, -6.9563e+00,\n",
      "         -6.3459e-01, -1.1461e+01,  1.0812e+00,  4.6936e+00,  5.3286e+00],\n",
      "        [ 2.3323e+00, -6.0765e+00,  1.5668e+00, -6.6315e-01, -5.3714e+00,\n",
      "         -3.2578e+00,  8.9506e-01, -6.5381e-01,  1.6595e+01,  3.5378e+00],\n",
      "        [ 3.2466e+00, -1.3569e+00,  1.8993e+00, -2.8692e+00, -1.5335e+00,\n",
      "          3.6775e+00,  5.8940e+00, -2.0049e+00,  3.7436e+00,  1.8307e-01],\n",
      "        [-8.9672e-01,  1.4019e+01,  2.1297e+00, -6.5623e+00,  4.7443e+00,\n",
      "          3.9091e-01,  4.2439e+00,  1.5789e+00,  1.8496e+00, -2.7916e+00],\n",
      "        [ 2.7378e+00, -8.0642e+00,  3.1422e+00, -2.1430e+00, -8.9437e+00,\n",
      "          1.3296e+00,  4.8814e+00, -1.5716e+00,  1.9007e+01,  2.3340e+00],\n",
      "        [ 4.0460e+00, -6.2914e-01,  1.0855e+00, -2.9842e+00,  4.2683e+00,\n",
      "          5.1466e+00,  1.3993e+01, -3.7481e+00,  6.1109e+00, -3.8319e+00],\n",
      "        [-1.1861e+01,  2.5357e+00,  5.7489e-01, -2.7939e-01,  3.4539e+00,\n",
      "         -5.8950e+00, -1.7367e+01,  1.5898e+01, -3.5443e+00,  6.6898e+00],\n",
      "        [-5.3299e+00,  8.0314e-01,  3.7815e+00,  5.9347e-01, -2.2488e+00,\n",
      "         -5.3953e+00, -1.2070e+01,  1.1745e+01, -8.2424e-01,  1.7176e+00],\n",
      "        [-4.3121e+00,  7.3000e+00, -1.6649e+00, -7.7971e+00,  2.0621e+01,\n",
      "         -3.8441e+00,  2.6358e+00,  5.0187e+00,  2.5174e+00,  2.3750e+00],\n",
      "        [-3.6519e+00,  3.6694e+00, -6.4576e-02, -3.4906e+00,  1.4047e+01,\n",
      "         -1.6934e+00,  3.5927e-01,  8.5724e-01,  1.8011e+00,  5.9142e+00],\n",
      "        [ 1.2217e+00, -7.5917e+00,  2.1665e+00,  1.4972e+00, -3.3134e+00,\n",
      "         -9.7723e-01,  1.7898e+00, -2.7581e+00,  1.3291e+01,  7.1459e+00],\n",
      "        [ 1.5024e+01, -8.8028e+00,  8.6985e-01, -3.4854e+00, -9.6087e+00,\n",
      "          1.1291e+00, -1.8221e+00,  1.7341e+00,  1.1746e+00,  6.4875e+00],\n",
      "        [ 3.9060e+00, -3.3228e+00, -1.1359e+00, -1.2488e+00,  5.8386e+00,\n",
      "          6.6195e+00,  1.5524e+01, -5.8294e+00,  6.9492e+00,  5.0270e-01],\n",
      "        [-1.4289e+00, -2.0180e+00, -6.9011e+00,  7.5346e-01, -3.4296e+00,\n",
      "          1.2449e+01,  3.4343e+00, -4.6423e+00,  3.3962e+00,  5.3774e+00],\n",
      "        [ 1.6235e+01, -9.2474e+00,  8.4194e-01, -5.6819e+00, -9.7823e+00,\n",
      "          3.3900e+00,  4.3108e+00,  5.4942e-01,  4.2801e+00,  3.5759e+00],\n",
      "        [-3.5198e+00, -5.8008e+00, -1.4142e+00,  1.1634e+00,  4.0037e+00,\n",
      "         -3.0249e+00, -9.2405e+00,  7.2447e-01,  5.7673e+00,  1.6462e+01],\n",
      "        [-2.0904e+00, -1.8796e+00,  4.2150e+00, -1.5301e-01, -2.2642e+00,\n",
      "         -6.9720e+00, -2.3475e+00, -6.4698e-01,  1.9027e+01,  1.5042e+00],\n",
      "        [-6.2676e+00, -4.2935e+00, -1.5963e+00,  3.7425e+00, -8.5097e+00,\n",
      "          1.2837e+01,  2.1595e+00, -3.5801e+00,  4.7698e+00,  4.3918e+00],\n",
      "        [ 5.1591e+00, -4.4531e-01,  9.3605e-01, -1.7345e+00,  5.1443e-01,\n",
      "          2.6365e+00,  9.8796e+00, -1.7930e+00,  5.1322e+00, -1.9951e+00],\n",
      "        [ 5.1542e+00, -4.3879e-01,  1.8389e+00, -3.0317e+00,  5.2777e+00,\n",
      "          5.1075e+00,  1.6098e+01, -4.5242e+00,  5.8914e+00, -4.0495e+00],\n",
      "        [ 1.3102e+00,  5.2011e+00,  1.5720e+01,  1.9462e+00, -1.5891e+00,\n",
      "         -8.9434e+00, -8.8691e+00,  2.9454e+00,  2.1050e+00, -3.5615e+00],\n",
      "        [ 6.6154e+00, -3.6469e+00, -2.1159e+00, -1.6320e+00,  5.2699e+00,\n",
      "          6.7836e+00,  1.7930e+01, -4.7946e+00,  6.5257e+00, -2.0784e+00],\n",
      "        [-2.4501e+00, -3.1271e+00, -4.2060e+00,  4.4877e+00, -8.8250e+00,\n",
      "          1.2854e+01, -2.6801e+00, -2.9140e+00,  3.0586e-01,  7.1219e+00],\n",
      "        [-4.3700e+00, -6.1544e+00, -3.3869e+00, -1.5127e-01,  4.1900e+00,\n",
      "         -1.7325e+00, -8.8506e+00,  2.8323e-01,  7.9771e+00,  1.8157e+01],\n",
      "        [ 1.1113e+01, -7.0272e+00,  1.2501e+00, -4.8646e+00, -9.8969e+00,\n",
      "          3.5192e+00,  3.4414e+00,  3.3074e-01,  4.2222e+00,  2.4417e+00],\n",
      "        [ 3.5858e+00,  3.9017e+00,  2.1063e+01, -1.7400e+00, -2.8210e+00,\n",
      "         -9.1796e+00, -4.4251e+00,  2.4954e+00,  6.1238e+00, -5.9327e+00],\n",
      "        [-4.8013e+00, -5.4516e+00, -6.1231e+00,  3.3941e+00, -8.7098e+00,\n",
      "          1.5990e+01,  1.9100e+00, -5.1904e+00,  5.5865e+00,  8.8497e+00],\n",
      "        [ 1.9959e+00,  1.7879e+00,  1.5016e+01,  2.2271e+00, -3.5132e+00,\n",
      "         -9.9384e+00, -6.8950e+00,  4.1441e+00,  3.9893e+00, -4.1299e+00],\n",
      "        [ 1.0052e+01, -6.7084e+00, -4.4687e-01, -4.4538e+00, -2.2775e+00,\n",
      "          7.7749e+00,  1.8050e+01, -2.7859e+00,  8.0131e+00, -3.7336e+00],\n",
      "        [-8.3877e+00,  6.5966e-01,  4.5084e-02,  5.5267e-01, -2.0963e+00,\n",
      "         -4.6142e+00, -1.3905e+01,  1.3917e+01, -1.5609e-02,  2.3997e+00],\n",
      "        [-6.5187e+00, -7.4640e-01, -4.9442e-01,  1.6043e+00, -3.1878e+00,\n",
      "         -4.9834e+00, -1.3510e+01,  1.1253e+01,  2.4974e+00,  4.9452e+00],\n",
      "        [-7.1850e+00,  1.9071e+00, -5.6163e-01,  1.5955e+00, -4.0236e+00,\n",
      "         -3.8970e+00, -1.2514e+01,  1.1627e+01,  1.1967e+00,  2.5240e+00],\n",
      "        [ 2.1954e+00,  3.5163e-01,  1.3769e+01,  1.5941e+00, -6.1041e+00,\n",
      "         -8.5327e+00, -3.8619e+00,  4.2554e+00,  5.9424e+00, -5.3122e+00],\n",
      "        [-5.8195e+00, -5.9158e+00, -2.6484e+00,  3.3198e-01,  4.6358e+00,\n",
      "         -2.4748e+00, -1.0022e+01,  9.8477e-01,  7.6187e+00,  1.8528e+01],\n",
      "        [ 3.6310e+00,  2.7332e+00,  1.9694e+01, -7.1550e-03, -3.6907e+00,\n",
      "         -1.1607e+01, -5.2856e+00,  3.6263e+00,  7.4223e+00, -5.4200e+00],\n",
      "        [ 2.4001e+00, -1.1864e+00,  1.6708e+00, -1.5477e+00, -2.2589e+00,\n",
      "         -3.8318e+00, -1.5320e+00, -1.1873e+00,  1.1946e+01,  4.4293e+00],\n",
      "        [-8.2015e+00,  1.5477e+00, -2.2167e+00, -8.5438e-01,  1.1209e+00,\n",
      "         -1.7276e+00, -1.3065e+01,  1.2242e+01, -3.9396e+00,  5.2774e+00],\n",
      "        [-5.3423e+00, -7.1900e+00, -3.5073e+00,  2.6072e+00,  1.6666e+00,\n",
      "          1.5705e-01, -9.4853e+00, -6.4499e-01,  6.5699e+00,  1.8367e+01],\n",
      "        [ 5.2671e+00, -1.1246e-01,  7.9569e-01, -1.6012e+00,  4.5454e+00,\n",
      "          1.8899e+00,  1.1219e+01, -3.1261e+00,  5.0955e+00, -1.9455e+00],\n",
      "        [ 6.4751e+00, -3.5876e+00,  5.3538e-01, -1.5749e+00,  1.6318e+00,\n",
      "          3.4769e+00,  1.3025e+01, -2.7258e+00,  6.6119e+00, -2.3074e+00],\n",
      "        [ 2.6889e+00,  2.1337e+00,  2.0423e+01,  2.2719e+00, -4.8112e+00,\n",
      "         -1.1980e+01, -8.0905e+00,  4.3288e+00,  5.6090e+00, -4.6741e+00],\n",
      "        [-2.2745e+00,  1.4910e+01,  3.2872e+00, -5.7901e+00,  2.0739e+00,\n",
      "         -1.2231e-01,  8.3981e-01,  2.5773e+00,  5.2318e-01, -9.8327e-01],\n",
      "        [-1.2058e+01,  3.2998e+00,  3.1908e+00,  1.8191e+01, -5.8674e+00,\n",
      "         -2.3149e+00, -2.1248e+01,  2.3565e+00, -3.0417e+00,  5.2455e+00],\n",
      "        [-7.1311e+00, -5.1258e+00, -2.1615e-01,  1.6905e+00,  5.2663e+00,\n",
      "         -3.1546e+00, -1.1013e+01,  1.5288e+00,  4.9200e+00,  1.7826e+01],\n",
      "        [ 9.1440e+00, -2.3215e+00, -8.0696e-01, -3.5760e+00,  6.8461e-01,\n",
      "          6.5633e-01,  3.5645e+00, -2.0074e+00,  3.8475e+00,  3.3339e+00],\n",
      "        [-7.1980e+00,  1.0987e+00,  1.0188e+00, -1.5598e+00,  1.4041e+00,\n",
      "         -2.8540e+00, -8.9661e+00,  1.0744e+01, -1.5207e+00,  2.5775e+00],\n",
      "        [-4.6400e+00, -7.1745e+00, -2.1240e+00,  2.0680e+00,  5.6022e+00,\n",
      "         -2.6372e+00, -8.8590e+00, -4.3694e-01,  7.3030e+00,  1.8995e+01],\n",
      "        [-2.0809e+00, -6.5171e+00, -6.0732e+00,  4.8389e-01, -6.6399e+00,\n",
      "          1.5895e+01,  3.9591e+00, -6.1752e+00,  4.7808e+00,  1.0240e+01],\n",
      "        [-9.5905e+00,  1.3466e+00, -1.3289e+00,  2.1746e+00, -2.3925e+00,\n",
      "         -4.0179e+00, -1.7447e+01,  1.4281e+01, -1.8127e+00,  4.0902e+00],\n",
      "        [ 3.3656e+00,  1.4216e+00,  1.7307e+01,  2.7449e+00, -2.6968e+00,\n",
      "         -1.1508e+01, -7.8773e+00,  3.2861e+00,  2.9229e+00, -1.5666e+00],\n",
      "        [-3.4397e+00,  1.1187e+01,  6.4550e-01, -8.0820e-01,  2.2832e+00,\n",
      "         -3.6848e-01, -2.5630e+00, -1.5293e+00,  2.8149e+00,  2.0508e+00],\n",
      "        [ 3.0134e+00,  8.4736e-01,  1.1545e+01, -4.4761e-01, -1.1812e+00,\n",
      "         -5.4819e+00,  3.2487e-01,  1.7729e+00,  4.7543e+00, -4.7861e+00],\n",
      "        [ 6.1203e+00, -2.3250e+00, -4.0254e+00, -2.9786e+00,  8.0827e+00,\n",
      "          6.2852e+00,  1.3091e+01, -5.7649e+00,  4.2305e+00,  1.9811e+00],\n",
      "        [ 8.1894e-01, -4.1459e+00,  1.9862e+00,  2.4297e-02, -4.8552e+00,\n",
      "         -3.3603e+00,  7.8138e-01, -5.9151e-01,  1.7292e+01,  1.6848e+00],\n",
      "        [-2.2529e-01,  1.3291e+00,  1.4021e+01,  5.0964e+00, -3.5659e+00,\n",
      "         -1.0860e+01, -1.0513e+01,  3.8362e+00,  4.3279e+00, -1.3076e+00],\n",
      "        [ 1.2262e+01, -1.5424e+00,  1.6609e+00, -5.4837e+00, -5.3290e+00,\n",
      "          3.6033e-01,  3.4608e+00, -7.8423e-02,  4.0173e+00,  1.4615e+00],\n",
      "        [ 1.9310e+00,  9.2351e-02,  7.4781e-01, -2.6497e+00,  5.3069e+00,\n",
      "          6.1681e+00,  1.3342e+01, -5.5985e+00,  6.2629e+00, -7.3362e-01],\n",
      "        [-7.3930e+00,  9.3159e-01, -7.1348e-01,  4.7288e-01, -9.2464e-01,\n",
      "         -3.3986e+00, -1.3205e+01,  1.1622e+01, -1.1687e+00,  4.8334e+00],\n",
      "        [-3.6268e+00,  1.1627e+01,  2.5339e+00, -3.1394e+00,  2.9775e+00,\n",
      "         -1.0558e+00, -2.8534e+00,  3.1884e+00, -1.0356e+00,  6.3119e-01],\n",
      "        [ 2.3891e+00, -9.3185e+00,  4.3307e-02, -2.6092e-02, -6.7564e+00,\n",
      "         -1.5665e+00,  2.2749e-01, -1.5442e+00,  1.7751e+01,  7.7445e+00],\n",
      "        [ 1.8225e+00, -9.9331e-02,  7.1722e+00, -1.4037e+00,  1.6743e-01,\n",
      "         -3.3330e+00, -5.2876e+00,  3.6599e+00, -2.1959e+00,  4.6344e+00],\n",
      "        [-1.8983e+00, -9.7953e-01,  3.1066e+00,  1.8640e+00,  1.2322e+00,\n",
      "         -8.0230e+00, -1.7334e+00, -6.0992e-01,  1.4837e+01,  2.1007e+00],\n",
      "        [-5.6030e-01, -4.5761e+00,  5.2566e+00, -8.5632e-02, -3.9683e+00,\n",
      "         -2.9043e+00,  2.2226e+00, -1.5774e+00,  1.6228e+01,  2.0242e+00],\n",
      "        [-5.6728e-01, -1.0192e+00, -6.7220e-01, -2.6838e+00, -9.1010e+00,\n",
      "          1.0817e+01,  4.0167e+00, -2.7848e+00,  9.4817e+00, -5.5120e-02],\n",
      "        [-3.9596e+00,  2.6602e-01,  7.9070e-01, -5.9078e-01,  9.5668e+00,\n",
      "         -7.4830e+00, -5.9295e+00,  4.5612e+00,  4.4763e+00,  6.4293e+00],\n",
      "        [-1.0527e+00,  1.2126e+01,  4.5130e+00, -4.1525e+00,  7.3823e-01,\n",
      "         -2.0551e+00, -4.5281e-01,  2.4760e+00,  1.6139e+00,  2.3702e-01],\n",
      "        [ 1.6641e+00, -5.6036e+00,  3.9593e+00, -8.8147e-01, -6.2442e+00,\n",
      "         -2.8979e+00,  1.0485e+00,  4.2554e-01,  1.3845e+01,  9.5919e-01],\n",
      "        [-6.1150e+00, -2.3289e+00, -7.2275e+00,  2.6146e+00, -5.4604e+00,\n",
      "          1.7874e+01,  2.8665e+00, -6.7050e+00,  3.6985e+00,  8.0982e+00],\n",
      "        [-3.2870e+00, -6.3215e+00, -3.6469e+00,  5.3023e-03,  2.0335e+00,\n",
      "         -3.5113e-01, -8.3534e+00,  9.8254e-01,  5.4419e+00,  1.6102e+01],\n",
      "        [-8.1894e+00,  1.3171e+00, -8.6521e-01,  1.5408e+00, -2.4497e+00,\n",
      "         -3.1031e+00, -1.6983e+01,  1.4261e+01, -3.4297e+00,  4.7551e+00],\n",
      "        [-1.0002e-01, -4.4180e+00,  6.8398e+00, -5.3414e-02, -5.6151e+00,\n",
      "         -7.7151e+00, -1.4646e+00,  1.4181e+00,  1.7922e+01, -1.2636e-01],\n",
      "        [-7.0865e+00,  2.7820e+00, -3.0202e+00, -4.5786e+00,  1.7212e+01,\n",
      "         -2.0904e+00,  8.0418e-01,  3.0128e+00,  4.5177e+00,  7.4922e+00],\n",
      "        [-4.6409e+00,  1.0732e+01,  2.9368e-01, -1.5012e+00,  3.0967e+00,\n",
      "         -2.4413e-01, -3.6920e+00,  6.4781e-01,  7.5306e-01,  2.4367e+00],\n",
      "        [-1.8667e+01,  2.9937e+00,  2.5049e+00,  6.4326e+00,  3.3333e+00,\n",
      "         -1.2487e+01, -2.4164e+01,  1.6998e+01,  2.5530e+00,  4.9078e+00],\n",
      "        [-5.4630e+00,  4.4357e-01,  5.6620e+00,  1.8987e+00, -5.1801e-01,\n",
      "         -8.3796e+00, -1.4984e+01,  1.1578e+01, -3.5776e-01,  3.8119e+00],\n",
      "        [-4.1561e+00,  4.9859e+00, -1.9087e+00, -5.2174e+00,  1.7215e+01,\n",
      "         -4.6962e+00,  2.1106e+00,  3.2237e+00,  5.9543e+00,  2.4464e+00],\n",
      "        [-2.3218e+00,  1.4496e+01,  3.8111e+00, -5.0974e+00,  2.7153e+00,\n",
      "         -1.0058e+00, -2.8844e-01,  2.7808e+00,  2.2683e-01, -3.7556e-01],\n",
      "        [-3.2416e+00, -3.1957e+00, -2.4096e+00,  2.8185e-02,  5.8568e-01,\n",
      "          1.1799e+01,  6.7580e+00, -7.1086e+00,  4.7172e+00,  7.7786e+00],\n",
      "        [-8.7952e+00, -3.9425e-01,  4.0345e+00,  1.6165e+01, -8.2093e+00,\n",
      "         -2.2560e+00, -1.6761e+01,  2.3338e+00,  1.3310e+00,  5.3477e+00],\n",
      "        [ 8.4939e-01, -1.0491e+00,  3.1291e+00,  8.2094e+00, -9.2943e+00,\n",
      "         -1.3866e+00, -1.1594e+01,  2.9609e+00, -1.4317e+00,  2.9262e+00],\n",
      "        [-8.4589e+00,  1.7551e+00, -2.4947e+00, -2.8459e+00,  1.4128e+01,\n",
      "         -1.8349e+00, -1.6940e+00,  3.0686e-01,  7.4677e+00,  1.0641e+01],\n",
      "        [-1.3094e+01,  3.8766e+00,  3.8136e+00,  1.9498e+01, -8.1270e+00,\n",
      "         -1.4006e+00, -2.1411e+01,  3.1806e+00, -3.1990e+00,  3.3545e+00]],\n",
      "       grad_fn=<AddmmBackward0>)\n"
     ]
    }
   ],
   "source": [
    "for i, (inputs,labels) in enumerate(train_load):\n",
    "        output = model(inputs)\n",
    "        loss_iter  = loss_fn(output,labels)\n",
    "        optimizer.zero_grad()\n",
    "        loss_iter.backward()\n",
    "        optimizer.step()   # w(t+1) = wt - lr*grad\n",
    "        total_loss += loss_iter.item()\n",
    "        _,predicted = torch.max(output,1)  # [0.1,0.7,0.2]\n",
    "        break\n",
    "print(output)\n"
   ]
  },
  {
   "cell_type": "code",
   "execution_count": 107,
   "id": "23ccee0b",
   "metadata": {},
   "outputs": [
    {
     "name": "stdout",
     "output_type": "stream",
     "text": [
      "Epochs : 1/2, Training_loss: 0.411, Training_Acc: 91.105\n",
      "Epochs : 2/2, Training_loss: 0.070, Training_Acc: 97.898\n"
     ]
    }
   ],
   "source": [
    "train_loss = []\n",
    "train_acc = []\n",
    "num_epochs = 2\n",
    "\n",
    "for epoch in range(num_epochs):\n",
    "    iterations = 0\n",
    "    total_correct = 0\n",
    "    total_loss = 0\n",
    "    model.train()  # model.eval()\n",
    "    for i, (inputs,labels) in enumerate(train_load):\n",
    "        output = model(inputs)\n",
    "        loss_iter  = loss_fn(output,labels)\n",
    "        optimizer.zero_grad()\n",
    "        loss_iter.backward()\n",
    "        optimizer.step()   # w(t+1) = wt - lr*grad\n",
    "        total_loss += loss_iter.item()\n",
    "        _,predicted = torch.max(output,1)  # [0.1,0.7,0.2]\n",
    "        total_correct += (predicted == labels).sum()\n",
    "        iterations +=1  # 60000 images , in 100 batch size : no of batches: 60000/100 = 600 batches\n",
    "    avg_loss = total_loss/(iterations)\n",
    "    avg_acc  = 100*(total_correct/len(train_dataset))\n",
    "    train_loss.append(avg_loss)\n",
    "    train_acc.append(avg_acc)\n",
    "    print(\"Epochs : {}/{}, Training_loss: {:.3f}, Training_Acc: {:.3f}\" .format(epoch+1,num_epochs,avg_loss,avg_acc))\n",
    "        "
   ]
  },
  {
   "cell_type": "code",
   "execution_count": 109,
   "id": "b2915092",
   "metadata": {},
   "outputs": [
    {
     "name": "stdout",
     "output_type": "stream",
     "text": [
      "Test_Accuracy tensor(97.6800)\n",
      "Test_loss 0.0722176612354815\n"
     ]
    }
   ],
   "source": [
    "model.eval()  # model.eval()\n",
    "iterations = 0\n",
    "total_correct = 0\n",
    "total_loss = 0\n",
    "for i, (inputs,labels) in enumerate(test_load):\n",
    "        output = model(inputs)\n",
    "        loss_iter  = loss_fn(output,labels)\n",
    "        total_loss += loss_iter.item()\n",
    "        _,predicted = torch.max(output,1)  # [0.1,0.7,0.2]\n",
    "        total_correct += (predicted == labels).sum()\n",
    "        iterations +=1  # 10000 images , in 100 batch size : no of batches: 60000/100 = 600 batches\n",
    "avg_loss = total_loss/(iterations)\n",
    "avg_acc  = 100*(total_correct/len(test_dataset))\n",
    "print(\"Test_Accuracy\",avg_acc.item())\n",
    "print(\"Test_loss\", avg_loss)"
   ]
  },
  {
   "cell_type": "code",
   "execution_count": 110,
   "id": "74615d97",
   "metadata": {},
   "outputs": [
    {
     "name": "stdout",
     "output_type": "stream",
     "text": [
      "Test_Accuracy 97.68000030517578\n",
      "Test_loss 0.0722176612354815\n"
     ]
    }
   ],
   "source": [
    "print(\"Test_Accuracy\",avg_acc.item())\n",
    "print(\"Test_loss\", avg_loss)"
   ]
  },
  {
   "cell_type": "code",
   "execution_count": 112,
   "id": "73edd4f9",
   "metadata": {},
   "outputs": [],
   "source": [
    "image = test_dataset[20]"
   ]
  },
  {
   "cell_type": "code",
   "execution_count": 116,
   "id": "4ce3aa7a",
   "metadata": {},
   "outputs": [],
   "source": [
    "img = image[0]"
   ]
  },
  {
   "cell_type": "code",
   "execution_count": 118,
   "id": "a67de008",
   "metadata": {},
   "outputs": [
    {
     "data": {
      "text/plain": [
       "torch.Size([1, 28, 28])"
      ]
     },
     "execution_count": 118,
     "metadata": {},
     "output_type": "execute_result"
    }
   ],
   "source": [
    "img.shape"
   ]
  },
  {
   "cell_type": "code",
   "execution_count": 126,
   "id": "bd0dba8c",
   "metadata": {},
   "outputs": [],
   "source": [
    "img = img.view((1,1,28,28))"
   ]
  },
  {
   "cell_type": "code",
   "execution_count": 127,
   "id": "b922257b",
   "metadata": {},
   "outputs": [],
   "source": [
    "label = image[1]"
   ]
  },
  {
   "cell_type": "code",
   "execution_count": 128,
   "id": "c3d7666c",
   "metadata": {},
   "outputs": [
    {
     "data": {
      "text/plain": [
       "9"
      ]
     },
     "execution_count": 128,
     "metadata": {},
     "output_type": "execute_result"
    }
   ],
   "source": [
    "label"
   ]
  },
  {
   "cell_type": "code",
   "execution_count": 130,
   "id": "ae3ada85",
   "metadata": {},
   "outputs": [
    {
     "name": "stdout",
     "output_type": "stream",
     "text": [
      "predicted label is 9\n",
      "Original label is 9\n"
     ]
    }
   ],
   "source": [
    "model.eval()\n",
    "output = model(img)\n",
    "x,predicted = torch.max(output,1)\n",
    "print(\"predicted label is\", predicted.item())\n",
    "print(\"Original label is\" , label)\n",
    "\n"
   ]
  },
  {
   "cell_type": "code",
   "execution_count": 136,
   "id": "7eb378e8",
   "metadata": {},
   "outputs": [],
   "source": [
    "import cv2\n",
    "from PIL import Image"
   ]
  },
  {
   "cell_type": "code",
   "execution_count": 145,
   "id": "cf79f806",
   "metadata": {},
   "outputs": [
    {
     "data": {
      "image/png": "[encoded data removed]",
      "text/plain": [
       "<Figure size 640x480 with 1 Axes>"
      ]
     },
     "metadata": {},
     "output_type": "display_data"
    }
   ],
   "source": [
    "image = cv2.imread(\"3.jpg\",0)\n",
    "ret,threshold = cv2.threshold(image,100,255,cv2.THRESH_BINARY_INV) \n",
    "plt.imshow(threshold,cmap =\"gray\")\n",
    "plt.axis(\"off\")\n",
    "plt.show()\n"
   ]
  },
  {
   "cell_type": "code",
   "execution_count": 146,
   "id": "322826e7",
   "metadata": {},
   "outputs": [],
   "source": [
    "transforms_photo = transforms.Compose([transforms.Resize([28,28]),transforms.ToTensor(),transforms.Normalize(mean_train,std_train)])"
   ]
  },
  {
   "cell_type": "code",
   "execution_count": 147,
   "id": "24ec729b",
   "metadata": {},
   "outputs": [],
   "source": [
    "# to convert numpy array to PIL image\n",
    "image = Image.fromarray(threshold)"
   ]
  },
  {
   "cell_type": "code",
   "execution_count": 149,
   "id": "8532643b",
   "metadata": {},
   "outputs": [],
   "source": [
    "img = transforms_photo(image)"
   ]
  },
  {
   "cell_type": "code",
   "execution_count": 151,
   "id": "c1823cd9",
   "metadata": {},
   "outputs": [
    {
     "name": "stdout",
     "output_type": "stream",
     "text": [
      "The predicted label is  3\n"
     ]
    }
   ],
   "source": [
    "img = img.view(1,1,28,28)\n",
    "model.eval()\n",
    "output = model(img)\n",
    "x,predicted = torch.max(output,1)\n",
    "print(\"The predicted label is \", predicted.item())\n"
   ]
  },
  {
   "cell_type": "code",
   "execution_count": null,
   "id": "9d035b25",
   "metadata": {},
   "outputs": [],
   "source": []
  }
 ],
 "metadata": {
  "kernelspec": {
   "display_name": "Python [conda env:base] *",
   "language": "python",
   "name": "conda-base-py"
  },
  "language_info": {
   "codemirror_mode": {
    "name": "ipython",
    "version": 3
   },
   "file_extension": ".py",
   "mimetype": "text/x-python",
   "name": "python",
   "nbconvert_exporter": "python",
   "pygments_lexer": "ipython3",
   "version": "3.13.5"
  }
 },
 "nbformat": 4,
 "nbformat_minor": 5
}
