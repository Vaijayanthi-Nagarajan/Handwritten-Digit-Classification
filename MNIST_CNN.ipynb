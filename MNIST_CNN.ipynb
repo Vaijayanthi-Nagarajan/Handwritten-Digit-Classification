{
 "cells": [
  {
   "cell_type": "code",
   "execution_count": 2,
   "id": "3610210d",
   "metadata": {},
   "outputs": [],
   "source": [
    "import torch\n",
    "import torch.nn as nn\n",
    "import torchvision.transforms as transforms\n",
    "import torchvision.datasets as datasets\n",
    "from torch.utils.data import DataLoader"
   ]
  },
  {
   "cell_type": "code",
   "execution_count": null,
   "id": "8c79850a-e399-455b-9be2-8430daa29c52",
   "metadata": {},
   "outputs": [],
   "source": [
    "# CIFAR10 dataset"
   ]
  },
  {
   "cell_type": "code",
   "execution_count": 3,
   "id": "d78b3f1c",
   "metadata": {},
   "outputs": [
    {
     "name": "stderr",
     "output_type": "stream",
     "text": [
      "100.0%\n"
     ]
    }
   ],
   "source": [
    "train_dataset = datasets.CIFAR10(root ='./Data', train = True, transform = transforms.ToTensor(), download = True)"
   ]
  },
  {
   "cell_type": "code",
   "execution_count": 4,
   "id": "f2133342",
   "metadata": {},
   "outputs": [],
   "source": [
    "test_dataset = datasets.CIFAR10(root ='./Data', train = False, transform = transforms.ToTensor(), download = True)"
   ]
  },
  {
   "cell_type": "code",
   "execution_count": 5,
   "id": "bbd4a6c8",
   "metadata": {},
   "outputs": [
    {
     "data": {
      "text/plain": [
       "50000"
      ]
     },
     "execution_count": 5,
     "metadata": {},
     "output_type": "execute_result"
    }
   ],
   "source": [
    "len(train_dataset)"
   ]
  },
  {
   "cell_type": "code",
   "execution_count": 6,
   "id": "47416e11",
   "metadata": {},
   "outputs": [
    {
     "data": {
      "text/plain": [
       "10000"
      ]
     },
     "execution_count": 6,
     "metadata": {},
     "output_type": "execute_result"
    }
   ],
   "source": [
    "len(test_dataset)"
   ]
  },
  {
   "cell_type": "code",
   "execution_count": 9,
   "id": "655c5812",
   "metadata": {},
   "outputs": [],
   "source": [
    "image, label = train_dataset[0]"
   ]
  },
  {
   "cell_type": "code",
   "execution_count": 11,
   "id": "1c61f4fd-bcbe-4a91-8eba-e38e440c9191",
   "metadata": {},
   "outputs": [
    {
     "data": {
      "text/plain": [
       "tuple"
      ]
     },
     "execution_count": 11,
     "metadata": {},
     "output_type": "execute_result"
    }
   ],
   "source": [
    "type(train_dataset[0])  # (image,label) = train_dataset[0]"
   ]
  },
  {
   "cell_type": "code",
   "execution_count": 12,
   "id": "352920b3",
   "metadata": {},
   "outputs": [
    {
     "data": {
      "text/plain": [
       "torch.Size([3, 32, 32])"
      ]
     },
     "execution_count": 12,
     "metadata": {},
     "output_type": "execute_result"
    }
   ],
   "source": [
    "image.shape"
   ]
  },
  {
   "cell_type": "code",
   "execution_count": 14,
   "id": "adfcaee4-b153-4bd5-959d-6eb6a8a0ea7f",
   "metadata": {},
   "outputs": [],
   "source": [
    "img_numpy = image.permute(1,2,0).numpy()  # [0,1,2]  [c,h,w] matplotlib: [h,w,c]"
   ]
  },
  {
   "cell_type": "code",
   "execution_count": 15,
   "id": "16b44507",
   "metadata": {},
   "outputs": [
    {
     "data": {
      "text/plain": [
       "6"
      ]
     },
     "execution_count": 15,
     "metadata": {},
     "output_type": "execute_result"
    }
   ],
   "source": [
    "label"
   ]
  },
  {
   "cell_type": "code",
   "execution_count": 19,
   "id": "354bcb83-4c79-4a2a-a21a-9e07dae0c29a",
   "metadata": {},
   "outputs": [
    {
     "data": {
      "image/png": "[encoded data removed]",
      "text/plain": [
       "<Figure size 100x100 with 1 Axes>"
      ]
     },
     "metadata": {},
     "output_type": "display_data"
    }
   ],
   "source": [
    "import matplotlib.pyplot as plt\n",
    "plt.figure(figsize =(1,1))\n",
    "plt.imshow(img_numpy)\n",
    "plt.title(f\"Label: {label}\")\n",
    "plt.axis(\"off\")\n",
    "plt.show()"
   ]
  },
  {
   "cell_type": "code",
   "execution_count": null,
   "id": "2fefeff0-f8e2-4b34-b17d-a2120e094b1a",
   "metadata": {},
   "outputs": [],
   "source": []
  },
  {
   "cell_type": "code",
   "execution_count": 20,
   "id": "f4d11c75",
   "metadata": {},
   "outputs": [],
   "source": [
    "# to compute mean and std of the images for normalization\n",
    "loader = DataLoader(dataset = train_dataset, batch_size = 60000, shuffle = True)"
   ]
  },
  {
   "cell_type": "code",
   "execution_count": 21,
   "id": "7c388c8e",
   "metadata": {},
   "outputs": [],
   "source": [
    "loader = DataLoader(train_dataset, 60000, True)"
   ]
  },
  {
   "cell_type": "code",
   "execution_count": 12,
   "id": "4f051128",
   "metadata": {},
   "outputs": [],
   "source": [
    "sample = train_dataset[0]"
   ]
  },
  {
   "cell_type": "code",
   "execution_count": 22,
   "id": "fa024cff",
   "metadata": {},
   "outputs": [],
   "source": [
    "for images, labels in loader:\n",
    "    mean_train = images.mean()\n",
    "    std_train = images.std()\n",
    "    "
   ]
  },
  {
   "cell_type": "code",
   "execution_count": 23,
   "id": "5e7251d9",
   "metadata": {},
   "outputs": [
    {
     "data": {
      "text/plain": [
       "tensor(0.4734)"
      ]
     },
     "execution_count": 23,
     "metadata": {},
     "output_type": "execute_result"
    }
   ],
   "source": [
    "mean_train\n"
   ]
  },
  {
   "cell_type": "code",
   "execution_count": 19,
   "id": "40b82218",
   "metadata": {},
   "outputs": [],
   "source": [
    "mean_train = 0.1307"
   ]
  },
  {
   "cell_type": "code",
   "execution_count": 24,
   "id": "c7bb6b28",
   "metadata": {},
   "outputs": [
    {
     "data": {
      "text/plain": [
       "tensor(0.2516)"
      ]
     },
     "execution_count": 24,
     "metadata": {},
     "output_type": "execute_result"
    }
   ],
   "source": [
    "std_train\n"
   ]
  },
  {
   "cell_type": "code",
   "execution_count": 21,
   "id": "77bf8d0d",
   "metadata": {},
   "outputs": [],
   "source": [
    "std_train = 0.3081"
   ]
  },
  {
   "cell_type": "code",
   "execution_count": 25,
   "id": "80abef58",
   "metadata": {},
   "outputs": [],
   "source": [
    "transform = transforms.Compose([transforms.Pad(4), transforms.RandomHorizontalFlip(),transforms.RandomCrop(32),transforms.ToTensor(), transforms.Normalize((mean_train,),(std_train,))])"
   ]
  },
  {
   "cell_type": "code",
   "execution_count": 27,
   "id": "ebc91b48",
   "metadata": {},
   "outputs": [],
   "source": [
    "train_dataset = datasets.CIFAR10(root ='./data',train = True, transform = transform, download = False)"
   ]
  },
  {
   "cell_type": "code",
   "execution_count": 25,
   "id": "1ef89cf7",
   "metadata": {},
   "outputs": [],
   "source": [
    "# Visualize the datasets"
   ]
  },
  {
   "cell_type": "code",
   "execution_count": 28,
   "id": "e4772c78",
   "metadata": {},
   "outputs": [
    {
     "data": {
      "text/plain": [
       "50000"
      ]
     },
     "execution_count": 28,
     "metadata": {},
     "output_type": "execute_result"
    }
   ],
   "source": [
    "len(train_dataset)"
   ]
  },
  {
   "cell_type": "code",
   "execution_count": 29,
   "id": "fc4f28cb",
   "metadata": {},
   "outputs": [],
   "source": [
    "# Convert to batch\n",
    "train_load = DataLoader(dataset = train_dataset, batch_size = 100, shuffle = True)\n"
   ]
  },
  {
   "cell_type": "code",
   "execution_count": 30,
   "id": "bdc0a01e",
   "metadata": {},
   "outputs": [],
   "source": [
    "test_load = DataLoader(dataset = test_dataset, batch_size = 100, shuffle = True)"
   ]
  },
  {
   "cell_type": "code",
   "execution_count": 31,
   "id": "910426de",
   "metadata": {},
   "outputs": [
    {
     "data": {
      "text/plain": [
       "500"
      ]
     },
     "execution_count": 31,
     "metadata": {},
     "output_type": "execute_result"
    }
   ],
   "source": [
    "len(train_load)"
   ]
  },
  {
   "cell_type": "code",
   "execution_count": 42,
   "id": "d28b11e5",
   "metadata": {},
   "outputs": [],
   "source": [
    "# Building the CNN\n",
    "class ResNet(nn.Module):\n",
    "    def __init__(self):\n",
    "        super().__init__()\n",
    "        ##### ##### Input Block\n",
    "        self.cnn = nn.Conv2d(in_channels = 3, out_channels = 16, kernel_size =3, stride =1, padding =1)\n",
    "        self.batchnorm = nn.BatchNorm2d(16)\n",
    "        self.relu = nn.ReLU()  # Image size is 32 x 32 x 16 , 16 channels\n",
    "        # nn.ReLU(x)\n",
    "       ############### Layer 1  CNN _ L_B_C\n",
    "        self.cnn_1_1_1 = nn.Conv2d(in_channels =16 , out_channels =16, kernel_size =3, stride =1, padding =1)\n",
    "        self.batchnorm_1_1_1 = nn.BatchNorm2d(16)\n",
    "        self.cnn_1_1_2 = nn.Conv2d(in_channels =16 , out_channels =16, kernel_size =3, stride =1, padding =1)\n",
    "        self.batchnorm_1_1_2 = nn.BatchNorm2d(16)\n",
    "        self.cnn_1_2_1 = nn.Conv2d(in_channels =16 , out_channels =16, kernel_size =3, stride =1, padding =1)\n",
    "        self.batchnorm_1_2_1 = nn.BatchNorm2d(16)\n",
    "        self.cnn_1_2_2 = nn.Conv2d(in_channels =16 , out_channels =16, kernel_size =3, stride =1, padding =1)\n",
    "        self.batchnorm_1_2_2 = nn.BatchNorm2d(16)\n",
    "           ############### Layer 2  CNN _ L_B_C\n",
    "        self.cnn_2_r = nn.Conv2d(in_channels =16 , out_channels =32, kernel_size =3, stride =2, padding =1)\n",
    "        self.batchnorm_2_r = nn.BatchNorm2d(32) # residual connection  \n",
    "        self.cnn_2_1_1 = nn.Conv2d(in_channels =16 , out_channels =32, kernel_size =3, stride =2, padding =1)\n",
    "        self.batchnorm_2_1_1 = nn.BatchNorm2d(32)  # 16 x 16\n",
    "        self.cnn_2_1_2 = nn.Conv2d(in_channels =32 , out_channels =32, kernel_size =3, stride =1, padding =1)\n",
    "        self.batchnorm_2_1_2 = nn.BatchNorm2d(32)\n",
    "        self.cnn_2_2_1 = nn.Conv2d(in_channels =32 , out_channels =32, kernel_size =3, stride =1, padding =1)\n",
    "        self.batchnorm_2_2_1 = nn.BatchNorm2d(32)\n",
    "        self.cnn_2_2_2 = nn.Conv2d(in_channels =32 , out_channels =32, kernel_size =3, stride =1, padding =1)\n",
    "        self.batchnorm_2_2_2 = nn.BatchNorm2d(32)\n",
    "         ############### Layer 3  CNN _ L_B_C\n",
    "        self.cnn_3_r = nn.Conv2d(in_channels =32 , out_channels =64, kernel_size =3, stride =2, padding =1)\n",
    "        self.batchnorm_2_r = nn.BatchNorm2d(64) # residual connection\n",
    "        self.cnn_2_1_1 = nn.Conv2d(in_channels =32 , out_channels =64, kernel_size =3, stride =2, padding =1)\n",
    "        self.batchnorm_2_1_1 = nn.BatchNorm2d(32)  # Image size  8 x 8 x 64 \n",
    "        self.cnn_2_1_2 = nn.Conv2d(in_channels =64 , out_channels =64, kernel_size =3, stride =1, padding =1)\n",
    "        self.batchnorm_2_1_2 = nn.BatchNorm2d(32)\n",
    "        self.cnn_2_2_1 = nn.Conv2d(in_channels =64 , out_channels =64, kernel_size =3, stride =1, padding =1)\n",
    "        self.batchnorm_2_2_1 = nn.BatchNorm2d(32)\n",
    "        self.cnn_2_2_2 = nn.Conv2d(in_channels =64 , out_channels =64, kernel_size =3, stride =1, padding =1)\n",
    "        self.batchnorm_2_2_2 = nn.BatchNorm2d(32)\n",
    " \n",
    "          ############### \n",
    "        self.avgpool = nn.AvgPool2d(kernel_size = 8)\n",
    "        self.fc = nn.Linear(64,10)\n",
    "\n",
    "    def forward(self,x):\n",
    "        out = self.cnn(x)\n",
    "        out = self.batchnorm(out)\n",
    "        out =self.relu(out)\n",
    "        residual = out  # Residual path 1_1\n",
    "        out = self.cnn_1_1_1(out)\n",
    "        out = self.batchnorm_1_1_1(out)\n",
    "        out = self.relu(out)   # Layer 1, Block 1 , conv 1\n",
    "        out = residual + out\n",
    "        out = self.cnn_1_1_2(out)\n",
    "        out = self.batchnorm_1_1_2(out)\n",
    "        out = self.relu(out)   # Layer 1, Block 1 , conv 1\n",
    "        \n",
    "        \n",
    "        return out\n",
    "        \n",
    "        \n",
    "        \n",
    "        "
   ]
  },
  {
   "cell_type": "code",
   "execution_count": 43,
   "id": "bb855dca",
   "metadata": {},
   "outputs": [],
   "source": [
    "model = CNN()\n",
    "loss_fn = nn.CrossEntropyLoss()\n",
    "optimizer = torch.optim.Adam(model.parameters(), lr =0.01)"
   ]
  },
  {
   "cell_type": "code",
   "execution_count": 44,
   "id": "345a0a6d",
   "metadata": {},
   "outputs": [
    {
     "name": "stdout",
     "output_type": "stream",
     "text": [
      "For one iteration what happens\n",
      "Input shape torch.Size([100, 1, 28, 28])\n",
      "Labels shape torch.Size([100])\n",
      "Output shape torch.Size([100, 10])\n",
      "loss function torch.Size([])\n",
      "predicted shape torch.Size([100])\n",
      "predicted tensor\n",
      "tensor([8, 8, 8, 8, 8, 8, 7, 0, 7, 7, 7, 7, 8, 8, 8, 7, 8, 2, 8, 7, 7, 0, 7, 8,\n",
      "        7, 8, 0, 7, 7, 8, 7, 7, 8, 8, 2, 7, 7, 4, 8, 8, 7, 4, 8, 8, 0, 4, 8, 8,\n",
      "        8, 7, 7, 8, 7, 8, 7, 8, 4, 7, 8, 7, 7, 8, 8, 8, 8, 8, 7, 8, 8, 0, 7, 7,\n",
      "        7, 8, 8, 8, 7, 8, 8, 0, 7, 8, 7, 8, 7, 8, 8, 8, 7, 7, 7, 7, 7, 7, 7, 7,\n",
      "        7, 7, 7, 8])\n",
      "The number of correct predictions in one batch\n",
      "tensor(7)\n",
      "labels\n",
      "tensor([2, 2, 9, 0, 9, 2, 5, 1, 2, 5, 7, 5, 2, 2, 3, 7, 7, 1, 7, 8, 7, 1, 3, 2,\n",
      "        6, 5, 7, 7, 4, 7, 8, 9, 2, 2, 6, 6, 4, 9, 7, 3, 5, 7, 6, 2, 1, 8, 2, 2,\n",
      "        3, 5, 0, 3, 1, 4, 9, 0, 1, 8, 5, 7, 5, 5, 4, 6, 5, 8, 8, 3, 3, 1, 0, 5,\n",
      "        4, 5, 2, 7, 0, 6, 3, 5, 0, 3, 6, 6, 0, 5, 1, 3, 0, 7, 5, 0, 1, 4, 3, 0,\n",
      "        9, 0, 2, 4])\n"
     ]
    }
   ],
   "source": [
    "correct = 0\n",
    "iteration =0 \n",
    "# Understand whats happending in one iteration\n",
    "for i,(inputs,labels) in enumerate(train_load):\n",
    "    print(\"For one iteration what happens\")\n",
    "    print (\"Input shape\" , inputs.shape)\n",
    "    print(\"Labels shape\", labels.shape)\n",
    "    output = model(inputs)\n",
    "    loss = loss_fn(output, labels)\n",
    "    print(\"Output shape\", output.shape)\n",
    "    print(\"loss function\", loss.shape)\n",
    "    x,predicted = torch.max(output,1)\n",
    "    print(\"predicted shape\", predicted.shape)\n",
    "    print(\"predicted tensor\")\n",
    "    print(predicted)\n",
    "    correct += (predicted == labels).sum()\n",
    "    print(\"The number of correct predictions in one batch\")\n",
    "    print(correct)\n",
    "    print(\"labels\")\n",
    "    print(labels)\n",
    "    break"
   ]
  },
  {
   "cell_type": "code",
   "execution_count": 45,
   "id": "3e487e06",
   "metadata": {},
   "outputs": [
    {
     "data": {
      "text/plain": [
       "tensor(2.3445, grad_fn=<NllLossBackward0>)"
      ]
     },
     "execution_count": 45,
     "metadata": {},
     "output_type": "execute_result"
    }
   ],
   "source": [
    "loss"
   ]
  },
  {
   "cell_type": "code",
   "execution_count": 46,
   "id": "95dd9e99",
   "metadata": {},
   "outputs": [
    {
     "name": "stdout",
     "output_type": "stream",
     "text": [
      "Epoch 1/10, Training_loss: 0.384, Trainin_Accuracy: 0.929\n",
      "Epoch 2/10, Training_loss: 0.058, Trainin_Accuracy: 0.983\n",
      "Epoch 3/10, Training_loss: 0.042, Trainin_Accuracy: 0.987\n",
      "Epoch 4/10, Training_loss: 0.036, Trainin_Accuracy: 0.989\n",
      "Epoch 5/10, Training_loss: 0.030, Trainin_Accuracy: 0.991\n",
      "Epoch 6/10, Training_loss: 0.028, Trainin_Accuracy: 0.991\n",
      "Epoch 7/10, Training_loss: 0.027, Trainin_Accuracy: 0.992\n",
      "Epoch 8/10, Training_loss: 0.022, Trainin_Accuracy: 0.993\n",
      "Epoch 9/10, Training_loss: 0.022, Trainin_Accuracy: 0.993\n",
      "Epoch 10/10, Training_loss: 0.019, Trainin_Accuracy: 0.994\n"
     ]
    }
   ],
   "source": [
    "# Train CNN network\n",
    "num_epochs = 10\n",
    "train_loss = []\n",
    "train_acc = []\n",
    "\n",
    "for epoch in range(num_epochs):\n",
    "    iterations = 0\n",
    "    iter_loss = 0\n",
    "    correct = 0\n",
    "    model.train()  # sets the CNN in training mode\n",
    "    for i,(inputs,labels) in enumerate(train_load):\n",
    "        output = model(inputs)\n",
    "        loss = loss_fn(output, labels)\n",
    "        optimizer.zero_grad()\n",
    "        loss.backward()\n",
    "        optimizer.step()\n",
    "        _,predicted = torch.max(output,1)\n",
    "        correct += (predicted == labels).sum().item()\n",
    "        iter_loss += loss.item()\n",
    "        iterations +=1\n",
    "    train_loss.append(iter_loss/iterations)\n",
    "    train_acc.append(correct/len(train_dataset))\n",
    "    print(\"Epoch {}/{}, Training_loss: {:.3f}, Trainin_Accuracy: {:.3f}\" .format(epoch+1, num_epochs, train_loss[-1],train_acc[-1]))\n",
    "    \n",
    "    "
   ]
  },
  {
   "cell_type": "code",
   "execution_count": 47,
   "id": "2c28eda8",
   "metadata": {},
   "outputs": [
    {
     "data": {
      "text/plain": [
       "[<matplotlib.lines.Line2D at 0x195b001a990>]"
      ]
     },
     "execution_count": 47,
     "metadata": {},
     "output_type": "execute_result"
    },
    {
     "data": {
      "image/png": "[encoded data removed]",
      "text/plain": [
       "<Figure size 1000x1000 with 1 Axes>"
      ]
     },
     "metadata": {},
     "output_type": "display_data"
    }
   ],
   "source": [
    "# Plotting the training loss and accuracy\n",
    "f = plt.figure(figsize = (10,10))\n",
    "plt.plot(train_loss, label = \"Training Loss\")"
   ]
  },
  {
   "cell_type": "code",
   "execution_count": 48,
   "id": "9ba12230",
   "metadata": {},
   "outputs": [
    {
     "data": {
      "text/plain": [
       "[<matplotlib.lines.Line2D at 0x195b007e390>]"
      ]
     },
     "execution_count": 48,
     "metadata": {},
     "output_type": "execute_result"
    },
    {
     "data": {
      "image/png": "[encoded data removed]",
      "text/plain": [
       "<Figure size 1000x1000 with 1 Axes>"
      ]
     },
     "metadata": {},
     "output_type": "display_data"
    }
   ],
   "source": [
    "# plotting the accuracy\n",
    "f = plt.figure(figsize =(10,10))\n",
    "plt.plot(train_acc, label =\"Training Accuracy\")"
   ]
  },
  {
   "cell_type": "code",
   "execution_count": 49,
   "id": "da3280b5",
   "metadata": {},
   "outputs": [
    {
     "name": "stdout",
     "output_type": "stream",
     "text": [
      "Test Loss: 0.046, Test Accuracy: 98.800\n"
     ]
    }
   ],
   "source": [
    "# Testing CNN\n",
    "iter_loss = 0\n",
    "test_acc = 0\n",
    "iterations = 0\n",
    "correct = 0\n",
    "model.eval()\n",
    "for i,(inputs,labels) in enumerate(test_load):\n",
    "    output = model(inputs)\n",
    "    loss = loss_fn(output,labels)\n",
    "    iter_loss += loss.item()\n",
    "    x,predicted = torch.max(output,1)\n",
    "    correct += (predicted == labels).sum().item()\n",
    "    iterations +=1\n",
    "test_loss = iter_loss/iterations\n",
    "test_acc = 100*(correct/len(test_dataset))\n",
    "print(\"Test Loss: {:.3f}, Test Accuracy: {:.3f}\" .format(test_loss,test_acc))    \n",
    "   "
   ]
  },
  {
   "cell_type": "code",
   "execution_count": 50,
   "id": "de92069b",
   "metadata": {},
   "outputs": [
    {
     "name": "stdout",
     "output_type": "stream",
     "text": [
      "For one iteration what happens\n",
      "Input shape torch.Size([100, 1, 28, 28])\n",
      "Labels shape torch.Size([100])\n",
      "Output shape torch.Size([100, 10])\n",
      "loss function torch.Size([])\n",
      "predicted shape torch.Size([100])\n",
      "predicted tensor\n",
      "tensor([2, 1, 8, 5, 0, 9, 8, 3, 8, 1, 4, 2, 1, 9, 0, 4, 8, 3, 3, 9, 7, 2, 0, 4,\n",
      "        7, 8, 6, 7, 1, 1, 4, 5, 1, 1, 2, 3, 5, 0, 5, 3, 5, 1, 7, 2, 1, 2, 7, 0,\n",
      "        2, 7, 9, 0, 7, 1, 3, 9, 9, 9, 6, 9, 6, 0, 3, 4, 5, 3, 7, 1, 6, 8, 9, 5,\n",
      "        8, 2, 5, 6, 9, 4, 2, 1, 7, 4, 0, 7, 7, 0, 2, 8, 3, 0, 1, 0, 4, 2, 0, 0,\n",
      "        8, 0, 1, 5])\n",
      "The number of correct predictions in one batch\n",
      "tensor(9979)\n",
      "labels\n",
      "tensor([2, 1, 8, 5, 0, 9, 8, 3, 8, 2, 4, 2, 1, 9, 0, 4, 8, 3, 3, 9, 7, 2, 0, 4,\n",
      "        7, 8, 6, 7, 1, 1, 4, 5, 1, 1, 2, 3, 5, 0, 5, 3, 5, 1, 7, 2, 1, 2, 7, 0,\n",
      "        2, 7, 9, 0, 7, 1, 3, 9, 9, 9, 6, 9, 6, 0, 3, 4, 5, 3, 7, 1, 6, 8, 9, 5,\n",
      "        8, 2, 5, 6, 9, 4, 2, 1, 7, 4, 0, 7, 7, 0, 2, 8, 3, 0, 1, 0, 4, 2, 0, 0,\n",
      "        8, 0, 1, 5])\n"
     ]
    }
   ],
   "source": [
    "for i,(inputs,labels) in enumerate(test_load):\n",
    "    print(\"For one iteration what happens\")\n",
    "    print (\"Input shape\" , inputs.shape)\n",
    "    print(\"Labels shape\", labels.shape)\n",
    "    output = model(inputs)\n",
    "    loss = loss_fn(output, labels)\n",
    "    print(\"Output shape\", output.shape)\n",
    "    print(\"loss function\", loss.shape)\n",
    "    x,predicted = torch.max(output,1)\n",
    "    print(\"predicted shape\", predicted.shape)\n",
    "    print(\"predicted tensor\")\n",
    "    print(predicted)\n",
    "    correct += (predicted == labels).sum()\n",
    "    print(\"The number of correct predictions in one batch\")\n",
    "    print(correct)\n",
    "    print(\"labels\")\n",
    "    print(labels)\n",
    "    break"
   ]
  },
  {
   "cell_type": "code",
   "execution_count": 51,
   "id": "2e4296b1",
   "metadata": {},
   "outputs": [
    {
     "name": "stdout",
     "output_type": "stream",
     "text": [
      "Predicted Digit is: 9\n",
      "Actual Digit is:9\n"
     ]
    }
   ],
   "source": [
    "# Image Prediction\n",
    "image_sample = test_dataset[20]\n",
    "image = image_sample[0].reshape([1,1,28,28])\n",
    "label = image_sample[1]\n",
    "model.eval()\n",
    "output = model(image)\n",
    "_,predicted = torch.max(output,1)\n",
    "print(\"Predicted Digit is: {}\" .format(predicted.item()))\n",
    "print(\"Actual Digit is:{}\" .format(label))"
   ]
  },
  {
   "cell_type": "code",
   "execution_count": 52,
   "id": "77f8803b",
   "metadata": {},
   "outputs": [],
   "source": [
    "import cv2\n",
    "import torch\n",
    "from PIL import Image"
   ]
  },
  {
   "cell_type": "code",
   "execution_count": 78,
   "id": "d1dd6ff0",
   "metadata": {},
   "outputs": [],
   "source": [
    "transforms_photo = transforms.Compose([transforms.Resize([28,28]),transforms.ToTensor(), transforms.Normalize(mean_train,std_train)])"
   ]
  },
  {
   "cell_type": "code",
   "execution_count": 64,
   "id": "563bfbd5",
   "metadata": {},
   "outputs": [
    {
     "data": {
      "image/png": "[encoded data removed]",
      "text/plain": [
       "<Figure size 640x480 with 1 Axes>"
      ]
     },
     "metadata": {},
     "output_type": "display_data"
    }
   ],
   "source": [
    "image = cv2.imread(\"3.jpg\",0)\n",
    "ret, thresholded = cv2.threshold(image,100,255,cv2.THRESH_BINARY)\n",
    "img = 255-thresholded\n",
    "plt.imshow(img, cmap ='gray')\n",
    "plt.title(\"Original Image\")\n",
    "plt.axis(\"off\")\n",
    "plt.show()\n"
   ]
  },
  {
   "cell_type": "code",
   "execution_count": 65,
   "id": "c7a49400",
   "metadata": {},
   "outputs": [],
   "source": [
    "def predict(image_name,model):\n",
    "    image = cv2.imread(img_name,0)\n",
    "    ret, thresholded = cv2.threshold(image,127,255,cv2.THRESH_BINARY)\n",
    "    img = 255-thresholded\n",
    "    img = Image.fromarray(img)\n",
    "    img = transforms_photo(img)\n",
    "    img = img.view(1,1,28,28)\n",
    "    #img = Variable(img)\n",
    "    model.eval()\n",
    "    output = model(img)\n",
    "    print(output)\n",
    "    print(output.data)\n",
    "    x,predicted = torch.max(output,1)\n",
    "    return predicted.item()"
   ]
  },
  {
   "cell_type": "code",
   "execution_count": 85,
   "id": "4ce98f4c",
   "metadata": {},
   "outputs": [
    {
     "data": {
      "image/png": "[encoded data removed]",
      "text/plain": [
       "<Figure size 640x480 with 1 Axes>"
      ]
     },
     "metadata": {},
     "output_type": "display_data"
    },
    {
     "name": "stdout",
     "output_type": "stream",
     "text": [
      "tensor([[-8.1703, -0.0641, -6.1773, -6.9425,  5.8189,  0.9590,  4.5569, -9.6870,\n",
      "          0.7413, -3.5301]], grad_fn=<AddmmBackward0>)\n",
      "tensor([[-8.1703, -0.0641, -6.1773, -6.9425,  5.8189,  0.9590,  4.5569, -9.6870,\n",
      "          0.7413, -3.5301]])\n",
      "The predicted label is: 4\n"
     ]
    }
   ],
   "source": [
    "image = cv2.imread(\"4a.jpg\",0)\n",
    "ret, thresholded = cv2.threshold(image,100,255,cv2.THRESH_BINARY)\n",
    "img = 255-thresholded\n",
    "plt.imshow(img, cmap ='gray')\n",
    "plt.title(\"Original Image\")\n",
    "plt.axis(\"off\")\n",
    "plt.show()\n",
    "img = Image.fromarray(img)\n",
    "img = transforms_photo(img)\n",
    "img = img.view(1,1,28,28)\n",
    "    #img = Variable(img)\n",
    "model.eval()\n",
    "output = model(img)\n",
    "print(output)\n",
    "print(output.data)\n",
    "x,predicted = torch.max(output,1)\n",
    "print(\"The predicted label is: {}\" .format(predicted.item()))"
   ]
  },
  {
   "cell_type": "code",
   "execution_count": 74,
   "id": "ec845fed",
   "metadata": {},
   "outputs": [
    {
     "data": {
      "text/plain": [
       "torch.Size([1, 128, 128])"
      ]
     },
     "execution_count": 74,
     "metadata": {},
     "output_type": "execute_result"
    }
   ],
   "source": [
    "img.shape\n"
   ]
  },
  {
   "cell_type": "code",
   "execution_count": null,
   "id": "509394dc",
   "metadata": {},
   "outputs": [],
   "source": []
  }
 ],
 "metadata": {
  "kernelspec": {
   "display_name": "Python 3 (ipykernel)",
   "language": "python",
   "name": "python3"
  },
  "language_info": {
   "codemirror_mode": {
    "name": "ipython",
    "version": 3
   },
   "file_extension": ".py",
   "mimetype": "text/x-python",
   "name": "python",
   "nbconvert_exporter": "python",
   "pygments_lexer": "ipython3",
   "version": "3.12.11"
  }
 },
 "nbformat": 4,
 "nbformat_minor": 5
}
